{
 "cells": [
  {
   "cell_type": "code",
   "execution_count": null,
   "id": "2be1e5dc",
   "metadata": {},
   "outputs": [],
   "source": [
    "# this file is dedicated to the project in Artificial Life"
   ]
  },
  {
   "cell_type": "code",
   "execution_count": null,
   "id": "49ed6e55",
   "metadata": {},
   "outputs": [],
   "source": [
    "    "
   ]
  }
 ],
 "metadata": {
  "kernelspec": {
   "display_name": "Python 3",
   "language": "python",
   "name": "python3"
  },
  "language_info": {
   "codemirror_mode": {
    "name": "ipython",
    "version": 3
   },
   "file_extension": ".py",
   "mimetype": "text/x-python",
   "name": "python",
   "nbconvert_exporter": "python",
   "pygments_lexer": "ipython3",
   "version": "3.8.8"
  }
 },
 "nbformat": 4,
 "nbformat_minor": 5
}
